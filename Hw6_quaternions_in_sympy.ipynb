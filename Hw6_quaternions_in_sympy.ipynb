{
 "cells": [
  {
   "cell_type": "markdown",
   "metadata": {},
   "source": [
    "**Course:**       MAE 6194 - Mechatronics Design\n",
    "\n",
    "**Author:**   Jonathan Schwartz\n",
    "\n",
    "**Description:**\n",
    "        Proving that different equations for quaternion multiplication are equivalent via comparing their output\n",
    "        when passed the same pair of quaternions.\n"
   ]
  },
  {
   "cell_type": "code",
   "execution_count": 2,
   "metadata": {},
   "outputs": [],
   "source": [
    "from sympy import *\n",
    "init_printing(use_unicode=True)\n",
    "import numpy as np"
   ]
  },
  {
   "cell_type": "code",
   "execution_count": 3,
   "metadata": {},
   "outputs": [
    {
     "name": "stdout",
     "output_type": "stream",
     "text": [
      "Quaternion p (45 degree rotation about axis [1,0,0]):\n"
     ]
    },
    {
     "data": {
      "text/latex": [
       "$\\displaystyle \\left[\\begin{matrix}0.866025403784439\\\\0.0\\\\0.5\\\\0.0\\end{matrix}\\right]$"
      ],
      "text/plain": [
       "⎡0.866025403784439⎤\n",
       "⎢                 ⎥\n",
       "⎢       0.0       ⎥\n",
       "⎢                 ⎥\n",
       "⎢       0.5       ⎥\n",
       "⎢                 ⎥\n",
       "⎣       0.0       ⎦"
      ]
     },
     "execution_count": 3,
     "metadata": {},
     "output_type": "execute_result"
    }
   ],
   "source": [
    "theta1 = np.pi/4\n",
    "theta2 = np.pi/3\n",
    "a1 = np.array([0.1,0.2,0])\n",
    "a2 = np.array([0,1,0])\n",
    "\n",
    "q0 = np.cos(theta1 / 2)\n",
    "p0 = np.cos(theta2 / 2)\n",
    "q = a1*np.sin(theta1 / 2)\n",
    "p = a2*np.sin(theta2 / 2)\n",
    "\n",
    "Q = Matrix([ q0, q[0], q[1], q[2] ])\n",
    "P = Matrix([ p0, p[0], p[1], p[2] ])\n",
    "\n",
    "print(\"Quaternion p (45 degree rotation about axis [1,0,0]):\")\n",
    "P"
   ]
  },
  {
   "cell_type": "code",
   "execution_count": 4,
   "metadata": {},
   "outputs": [
    {
     "name": "stdout",
     "output_type": "stream",
     "text": [
      "Quaternion q (30 degree rotation about axis [0,1,0]:\n"
     ]
    },
    {
     "data": {
      "text/latex": [
       "$\\displaystyle \\left[\\begin{matrix}0.923879532511287\\\\0.038268343236509\\\\0.076536686473018\\\\0.0\\end{matrix}\\right]$"
      ],
      "text/plain": [
       "⎡0.923879532511287⎤\n",
       "⎢                 ⎥\n",
       "⎢0.038268343236509⎥\n",
       "⎢                 ⎥\n",
       "⎢0.076536686473018⎥\n",
       "⎢                 ⎥\n",
       "⎣       0.0       ⎦"
      ]
     },
     "execution_count": 4,
     "metadata": {},
     "output_type": "execute_result"
    }
   ],
   "source": [
    "print(\"Quaternion q (30 degree rotation about axis [0,1,0]:\")\n",
    "Q"
   ]
  },
  {
   "cell_type": "code",
   "execution_count": 5,
   "metadata": {},
   "outputs": [
    {
     "name": "stdout",
     "output_type": "stream",
     "text": [
      "Plugging p and q into Equation 2 yields:\n"
     ]
    },
    {
     "data": {
      "text/latex": [
       "$\\displaystyle \\left[\\begin{matrix}0.761834801954757\\\\0.0331413574035592\\\\0.528222481062762\\\\-0.0191341716182545\\end{matrix}\\right]$"
      ],
      "text/plain": [
       "⎡ 0.761834801954757 ⎤\n",
       "⎢                   ⎥\n",
       "⎢0.0331413574035592 ⎥\n",
       "⎢                   ⎥\n",
       "⎢ 0.528222481062762 ⎥\n",
       "⎢                   ⎥\n",
       "⎣-0.0191341716182545⎦"
      ]
     },
     "execution_count": 5,
     "metadata": {},
     "output_type": "execute_result"
    }
   ],
   "source": [
    "# Equation (2)\n",
    "top_row = np.array([ q0*p0 - np.dot(p,q) ])\n",
    "all_rows = np.vstack([top_row, (p0*q + q0*p + np.cross(p,q)).reshape(3,1)])\n",
    "output2 = Matrix(all_rows)\n",
    "print(\"Plugging p and q into Equation 2 yields:\")\n",
    "output2"
   ]
  },
  {
   "cell_type": "code",
   "execution_count": 6,
   "metadata": {},
   "outputs": [
    {
     "name": "stdout",
     "output_type": "stream",
     "text": [
      "Plugging p and q into Equation 3 yields:\n"
     ]
    },
    {
     "data": {
      "text/latex": [
       "$\\displaystyle \\left[\\begin{matrix}0.761834801954757\\\\0.0331413574035592\\\\0.528222481062762\\\\-0.0191341716182545\\end{matrix}\\right]$"
      ],
      "text/plain": [
       "⎡ 0.761834801954757 ⎤\n",
       "⎢                   ⎥\n",
       "⎢0.0331413574035592 ⎥\n",
       "⎢                   ⎥\n",
       "⎢ 0.528222481062762 ⎥\n",
       "⎢                   ⎥\n",
       "⎣-0.0191341716182545⎦"
      ]
     },
     "execution_count": 6,
     "metadata": {},
     "output_type": "execute_result"
    }
   ],
   "source": [
    "# Equation (3)\n",
    "q_hat = np.array(([0, -q[2], q[1]], [q[2], 0, -q[0]], [-q[1], q[0], 0]))\n",
    "\n",
    "coefficient_mat = np.array(([q0, -q[0], -q[1], -q[2]], \n",
    "                            [q[0], q0 - q_hat[0,0], -q_hat[0,1] , -q_hat[0,2]], \n",
    "                            [q[1], -q_hat[1,0], q0 - q_hat[1,1], -q_hat[1,2]], \n",
    "                            [q[2], -q_hat[2,0], -q_hat[2,1], q0 - q_hat[2,2]]))\n",
    "\n",
    "p_arr = np.array([p0, p[0], p[1], p[2]]).reshape(4,1)\n",
    "\n",
    "output3 = Matrix(np.dot(coefficient_mat, p_arr))\n",
    "print(\"Plugging p and q into Equation 3 yields:\")\n",
    "output3"
   ]
  },
  {
   "cell_type": "code",
   "execution_count": 7,
   "metadata": {},
   "outputs": [
    {
     "name": "stdout",
     "output_type": "stream",
     "text": [
      "Plugging p and q into Equation 4 yields:\n"
     ]
    },
    {
     "data": {
      "text/latex": [
       "$\\displaystyle \\left[\\begin{matrix}0.761834801954757\\\\0.0331413574035592\\\\0.528222481062762\\\\-0.0191341716182545\\end{matrix}\\right]$"
      ],
      "text/plain": [
       "⎡ 0.761834801954757 ⎤\n",
       "⎢                   ⎥\n",
       "⎢0.0331413574035592 ⎥\n",
       "⎢                   ⎥\n",
       "⎢ 0.528222481062762 ⎥\n",
       "⎢                   ⎥\n",
       "⎣-0.0191341716182545⎦"
      ]
     },
     "execution_count": 7,
     "metadata": {},
     "output_type": "execute_result"
    }
   ],
   "source": [
    "# Equation (4)\n",
    "p_hat = np.array(([0, -p[2], p[1]], [p[2], 0, -p[0]], [-p[1], p[0], 0]))\n",
    "\n",
    "coefficient_mat2 = np.array(([p0, -p[0], -p[1], -p[2]],\n",
    "                             [p[0], p0 + p_hat[0,0], p_hat[0,1] , p_hat[0,2]], \n",
    "                             [p[1], p_hat[1,0], p0 + p_hat[1,1], p_hat[1,2]], \n",
    "                             [p[2], p_hat[2,0], p_hat[2,1], p0 + p_hat[2,2]]))\n",
    "\n",
    "q_arr = np.array([q0, q[0], q[1], q[2]]).reshape(4,1)\n",
    "\n",
    "output4 = Matrix(np.dot(coefficient_mat2, q_arr))\n",
    "print(\"Plugging p and q into Equation 4 yields:\")\n",
    "output4"
   ]
  },
  {
   "cell_type": "markdown",
   "metadata": {},
   "source": [
    "**This shows that the three equations are equivalent, since the output of all three is identical. This was\n",
    "      verified to be true for a host of special cases as well, such as:**\n",
    "          - negative angles\n",
    "          - angles larger than 2*pi\n",
    "          - axes that aren't unit vectors ( smaller and large than ||q||=1 )\n",
    "          - negative vector components in axis\n",
    "          - 0 magnitude rotation"
   ]
  },
  {
   "cell_type": "code",
   "execution_count": null,
   "metadata": {},
   "outputs": [],
   "source": []
  },
  {
   "cell_type": "code",
   "execution_count": null,
   "metadata": {},
   "outputs": [],
   "source": []
  }
 ],
 "metadata": {
  "kernelspec": {
   "display_name": "Python 3",
   "language": "python",
   "name": "python3"
  },
  "language_info": {
   "codemirror_mode": {
    "name": "ipython",
    "version": 3
   },
   "file_extension": ".py",
   "mimetype": "text/x-python",
   "name": "python",
   "nbconvert_exporter": "python",
   "pygments_lexer": "ipython3",
   "version": "3.7.4"
  }
 },
 "nbformat": 4,
 "nbformat_minor": 2
}
